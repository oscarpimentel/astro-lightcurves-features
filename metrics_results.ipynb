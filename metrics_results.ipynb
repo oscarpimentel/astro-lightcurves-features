{
 "cells": [
  {
   "cell_type": "code",
   "execution_count": null,
   "metadata": {},
   "outputs": [],
   "source": [
    "!jupyter nbextension enable --py widgetsnbextension"
   ]
  },
  {
   "cell_type": "code",
   "execution_count": null,
   "metadata": {},
   "outputs": [],
   "source": [
    "import sys\n",
    "sys.path.append('../fuzzy-tools')  # or just install the module\n",
    "sys.path.append('../astro-lightcurves-handler')  # or just install the module"
   ]
  },
  {
   "cell_type": "code",
   "execution_count": null,
   "metadata": {},
   "outputs": [],
   "source": [
    "%load_ext autoreload\n",
    "%autoreload 2\n",
    "from lcfeatures.results.utils import get_model_names\n",
    "\n",
    "rootdir = 'save'\n",
    "set_name = 'test'\n",
    "method = 'spm-mcmc-estw'\n",
    "cfilename = f'survey=alerceZTFv7.1~bands=gr~mode=onlySNe~method={method}'\n",
    "kf = '.'\n",
    "\n",
    "model_names = get_model_names(rootdir, cfilename, kf, set_name)\n",
    "model_names"
   ]
  },
  {
   "cell_type": "code",
   "execution_count": null,
   "metadata": {},
   "outputs": [],
   "source": [
    "%load_ext autoreload\n",
    "%autoreload 2\n",
    "%matplotlib inline\n",
    "from lcfeatures.results.performances import plot_metric\n",
    "import ipywidgets as widgets\n",
    "\n",
    "\n",
    "def interact_f(dict_name, metric_name, target_class):\n",
    "    new_model_names = []\n",
    "    for model_name in model_names:\n",
    "            new_model_names += [model_name]\n",
    "    plot_metric(rootdir, kf, set_name, new_model_names, metric_name,\n",
    "        std_prop=1 / 10,\n",
    "        target_class=target_class,\n",
    "        dict_name=dict_name,\n",
    "        )\n",
    "\n",
    "widgets.interact(interact_f,\n",
    "    dict_name=['thdays_class_metrics', 'thdays_class_metrics_all_bands'],\n",
    "    metric_name=['aucroc', 'precision', 'recall', 'f1score', 'aucpr'],\n",
    "    target_class=[None, ' SNIbc', 'SNIIbn', 'SNIa', 'SLSN'],\n",
    "    )"
   ]
  },
  {
   "cell_type": "code",
   "execution_count": null,
   "metadata": {},
   "outputs": [],
   "source": [
    "%load_ext autoreload\n",
    "%autoreload 2\n",
    "from lcfeatures.results.cms import plot_cm\n",
    "import ipywidgets as widgets\n",
    "\n",
    "\n",
    "def interact_f(dict_name, alphabet_count):\n",
    "    new_model_names = []\n",
    "    for model_name in model_names:\n",
    "            new_model_names += [model_name]\n",
    "    plot_cm(rootdir, kf, set_name, new_model_names,\n",
    "        dict_name=dict_name,\n",
    "        alphabet_count=alphabet_count,\n",
    "        )\n",
    "\n",
    "widgets.interact(interact_f,\n",
    "    dict_name=['thdays_class_metrics', 'thdays_class_metrics_all_bands'],\n",
    "    alphabet_count=[0],\n",
    "    )"
   ]
  },
  {
   "cell_type": "code",
   "execution_count": null,
   "metadata": {},
   "outputs": [],
   "source": [
    "%load_ext autoreload\n",
    "%autoreload 2\n",
    "from lcfeatures.results.tables import get_performance_df\n",
    "from fuzzytools.latex.latex_tables import LatexTable\n",
    "\n",
    "metric_names = [\n",
    "    'precision',\n",
    "    'recall',\n",
    "    'f1score',\n",
    "    'aucroc',\n",
    "    'aucpr',\n",
    "    ]\n",
    "    \n",
    "new_model_names = []\n",
    "for model_name in model_names:\n",
    "        new_model_names += [model_name]\n",
    "info_df = get_performance_df(rootdir, cfilename, kf, set_name, new_model_names, metric_names,\n",
    "    #dict_name='thdays_class_metrics_all_bands',\n",
    "    )\n",
    "for k in range(0, len(info_df)):\n",
    "    info_df.indexs[k] = info_df.indexs[k].replace('=', '***')\n",
    "    info_df.indexs[k] = info_df.indexs[k].replace('Model***', 'Model=')\n",
    "display(info_df())\n",
    "\n",
    "latex_table = LatexTable(info_df(),\n",
    "    centered=True,\n",
    "    repr_replace_dict={\n",
    "        '***':'=',\n",
    "        },\n",
    "    )\n",
    "print(latex_table)"
   ]
  }
 ],
 "metadata": {
  "kernelspec": {
   "display_name": "Python 3",
   "language": "python",
   "name": "python3"
  },
  "language_info": {
   "codemirror_mode": {
    "name": "ipython",
    "version": 3
   },
   "file_extension": ".py",
   "mimetype": "text/x-python",
   "name": "python",
   "nbconvert_exporter": "python",
   "pygments_lexer": "ipython3",
   "version": "3.7.10"
  }
 },
 "nbformat": 4,
 "nbformat_minor": 4
}
