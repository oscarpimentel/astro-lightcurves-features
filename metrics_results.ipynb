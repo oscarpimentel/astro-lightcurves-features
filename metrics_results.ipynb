{
 "cells": [
  {
   "cell_type": "code",
   "execution_count": 1,
   "metadata": {},
   "outputs": [
    {
     "name": "stdout",
     "output_type": "stream",
     "text": [
      "Enabling notebook extension jupyter-js-widgets/extension...\n",
      "      - Validating: \u001b[32mOK\u001b[0m\n"
     ]
    }
   ],
   "source": [
    "!jupyter nbextension enable --py widgetsnbextension"
   ]
  },
  {
   "cell_type": "code",
   "execution_count": 2,
   "metadata": {},
   "outputs": [],
   "source": [
    "import sys\n",
    "sys.path.append('../fuzzy-tools')  # or just install the module\n",
    "sys.path.append('../astro-lightcurves-handler')  # or just install the module"
   ]
  },
  {
   "cell_type": "code",
   "execution_count": 3,
   "metadata": {},
   "outputs": [
    {
     "data": {
      "text/plain": [
       "['method=bspline-fstw~tmode=r+s~fmode=all',\n",
       " 'method=bspline-fstw~tmode=s~fmode=all',\n",
       " 'method=linear-fstw~tmode=r+s~fmode=all',\n",
       " 'method=linear-fstw~tmode=s~fmode=all',\n",
       " 'method=spm-mcmc-estw~tmode=r+s~fmode=all',\n",
       " 'method=spm-mcmc-estw~tmode=r~fmode=all',\n",
       " 'method=spm-mcmc-estw~tmode=s~fmode=all',\n",
       " 'method=spm-mcmc-fstw~tmode=r+s~fmode=all',\n",
       " 'method=spm-mcmc-fstw~tmode=s~fmode=all']"
      ]
     },
     "execution_count": 3,
     "metadata": {},
     "output_type": "execute_result"
    }
   ],
   "source": [
    "%load_ext autoreload\n",
    "%autoreload 2\n",
    "from lcfeatures.results.utils import get_model_names\n",
    "\n",
    "rootdir = 'save'\n",
    "set_name = 'test'\n",
    "method = 'spm-mcmc-estw'\n",
    "cfilename = f'survey=alerceZTFv7.1~bands=gr~mode=onlySNe~method={method}'\n",
    "kf = '.'\n",
    "\n",
    "model_names = get_model_names(rootdir, cfilename, kf, set_name)\n",
    "model_names"
   ]
  },
  {
   "cell_type": "code",
   "execution_count": 4,
   "metadata": {
    "scrolled": true
   },
   "outputs": [
    {
     "name": "stdout",
     "output_type": "stream",
     "text": [
      "The autoreload extension is already loaded. To reload it, use:\n",
      "  %reload_ext autoreload\n"
     ]
    },
    {
     "data": {
      "application/vnd.jupyter.widget-view+json": {
       "model_id": "c0f28d49e226442fa4d26d506ab458e4",
       "version_major": 2,
       "version_minor": 0
      },
      "text/plain": [
       "interactive(children=(Dropdown(description='dict_name', options=('thdays_class_metrics', 'thdays_class_metrics…"
      ]
     },
     "metadata": {},
     "output_type": "display_data"
    },
    {
     "data": {
      "text/plain": [
       "<function __main__.interact_f(dict_name, metric_name, target_class)>"
      ]
     },
     "execution_count": 4,
     "metadata": {},
     "output_type": "execute_result"
    }
   ],
   "source": [
    "%load_ext autoreload\n",
    "%autoreload 2\n",
    "%matplotlib inline\n",
    "from lcfeatures.results.performances import plot_metric\n",
    "import ipywidgets as widgets\n",
    "\n",
    "\n",
    "def interact_f(dict_name, metric_name, target_class):\n",
    "    new_model_names = []\n",
    "    for model_name in model_names:\n",
    "            new_model_names += [model_name]\n",
    "    plot_metric(rootdir, kf, set_name, new_model_names, metric_name,\n",
    "        std_prop=1 / 10,\n",
    "        target_class=target_class,\n",
    "        dict_name=dict_name,\n",
    "        )\n",
    "\n",
    "widgets.interact(interact_f,\n",
    "    dict_name=['thdays_class_metrics', 'thdays_class_metrics_all_bands'],\n",
    "    metric_name=['aucroc', 'precision', 'recall', 'f1score', 'aucpr'],\n",
    "    target_class=[None, ' SNIbc', 'SNIIbn', 'SNIa', 'SLSN'],\n",
    "    )"
   ]
  },
  {
   "cell_type": "code",
   "execution_count": 5,
   "metadata": {
    "scrolled": true
   },
   "outputs": [
    {
     "name": "stdout",
     "output_type": "stream",
     "text": [
      "The autoreload extension is already loaded. To reload it, use:\n",
      "  %reload_ext autoreload\n"
     ]
    },
    {
     "data": {
      "application/vnd.jupyter.widget-view+json": {
       "model_id": "9ff61dba6ac04547a261ffb06bfbe645",
       "version_major": 2,
       "version_minor": 0
      },
      "text/plain": [
       "interactive(children=(Dropdown(description='dict_name', options=('thdays_class_metrics', 'thdays_class_metrics…"
      ]
     },
     "metadata": {},
     "output_type": "display_data"
    },
    {
     "data": {
      "text/plain": [
       "<function __main__.interact_f(dict_name, alphabet_count)>"
      ]
     },
     "execution_count": 5,
     "metadata": {},
     "output_type": "execute_result"
    }
   ],
   "source": [
    "%load_ext autoreload\n",
    "%autoreload 2\n",
    "from lcfeatures.results.cms import plot_cm\n",
    "import ipywidgets as widgets\n",
    "\n",
    "\n",
    "def interact_f(dict_name, alphabet_count):\n",
    "    new_model_names = []\n",
    "    for model_name in model_names:\n",
    "            new_model_names += [model_name]\n",
    "    plot_cm(rootdir, kf, set_name, new_model_names,\n",
    "        dict_name=dict_name,\n",
    "        alphabet_count=alphabet_count,\n",
    "        )\n",
    "\n",
    "widgets.interact(interact_f,\n",
    "    dict_name=['thdays_class_metrics', 'thdays_class_metrics_all_bands'],\n",
    "    alphabet_count=[0],\n",
    "    )"
   ]
  },
  {
   "cell_type": "code",
   "execution_count": 6,
   "metadata": {},
   "outputs": [
    {
     "name": "stdout",
     "output_type": "stream",
     "text": [
      "The autoreload extension is already loaded. To reload it, use:\n",
      "  %reload_ext autoreload\n",
      "../save/method=bspline-fstw~tmode=r+s~fmode=all/performance/survey=alerceZTFv7.1~bands=gr~mode=onlySNe~method=bspline-fstw\n"
     ]
    },
    {
     "ename": "KeyError",
     "evalue": "'test'",
     "output_type": "error",
     "traceback": [
      "\u001b[0;31m---------------------------------------------------------------------------\u001b[0m",
      "\u001b[0;31mKeyError\u001b[0m                                  Traceback (most recent call last)",
      "\u001b[0;32m<ipython-input-6-d824d6e77153>\u001b[0m in \u001b[0;36m<module>\u001b[0;34m\u001b[0m\n\u001b[1;32m     15\u001b[0m \u001b[0;32mfor\u001b[0m \u001b[0mmodel_name\u001b[0m \u001b[0;32min\u001b[0m \u001b[0mmodel_names\u001b[0m\u001b[0;34m:\u001b[0m\u001b[0;34m\u001b[0m\u001b[0;34m\u001b[0m\u001b[0m\n\u001b[1;32m     16\u001b[0m         \u001b[0mnew_model_names\u001b[0m \u001b[0;34m+=\u001b[0m \u001b[0;34m[\u001b[0m\u001b[0mmodel_name\u001b[0m\u001b[0;34m]\u001b[0m\u001b[0;34m\u001b[0m\u001b[0;34m\u001b[0m\u001b[0m\n\u001b[0;32m---> 17\u001b[0;31m info_df = get_performance_df(rootdir, cfilename, kf, set_name, new_model_names, metric_names,\n\u001b[0m\u001b[1;32m     18\u001b[0m     \u001b[0;31m#dict_name='thdays_class_metrics_all_bands',\u001b[0m\u001b[0;34m\u001b[0m\u001b[0;34m\u001b[0m\u001b[0;34m\u001b[0m\u001b[0m\n\u001b[1;32m     19\u001b[0m     )\n",
      "\u001b[0;32m~/thesis/astro-lightcurves-features/lcfeatures/results/tables.py\u001b[0m in \u001b[0;36mget_performance_df\u001b[0;34m(rootdir, cfilename, kf, set_name, model_names, metric_names, target_class, thday, dict_name)\u001b[0m\n\u001b[1;32m     33\u001b[0m                         \u001b[0mfext\u001b[0m\u001b[0;34m=\u001b[0m\u001b[0;34m'd'\u001b[0m\u001b[0;34m,\u001b[0m\u001b[0;34m\u001b[0m\u001b[0;34m\u001b[0m\u001b[0m\n\u001b[1;32m     34\u001b[0m                         \u001b[0mimbalanced_kf_mode\u001b[0m\u001b[0;34m=\u001b[0m\u001b[0;34m'oversampling'\u001b[0m\u001b[0;34m,\u001b[0m \u001b[0;31m# error oversampling\u001b[0m\u001b[0;34m\u001b[0m\u001b[0;34m\u001b[0m\u001b[0m\n\u001b[0;32m---> 35\u001b[0;31m                         \u001b[0mrandom_state\u001b[0m\u001b[0;34m=\u001b[0m\u001b[0mRANDOM_STATE\u001b[0m\u001b[0;34m,\u001b[0m\u001b[0;34m\u001b[0m\u001b[0;34m\u001b[0m\u001b[0m\n\u001b[0m\u001b[1;32m     36\u001b[0m \t\t\t)\n\u001b[1;32m     37\u001b[0m                 \u001b[0mprint\u001b[0m\u001b[0;34m(\u001b[0m\u001b[0;34mf'{files_ids}({len(files_ids)}#)'\u001b[0m\u001b[0;34m)\u001b[0m\u001b[0;34m\u001b[0m\u001b[0;34m\u001b[0m\u001b[0m\n",
      "\u001b[0;32m~/thesis/fuzzy-tools/fuzzytools/files.py\u001b[0m in \u001b[0;36mgather_files_by_kfold\u001b[0;34m(rootdir, _kf, kf_set, id_key, key_key_separator, key_value_separator, fext, kf_str, imbalanced_kf_mode, random_state, kfs, returns_all_kf_files)\u001b[0m\n\u001b[1;32m    480\u001b[0m                 \u001b[0mall_kf_files\u001b[0m \u001b[0;34m=\u001b[0m \u001b[0;34m{\u001b[0m\u001b[0;34m}\u001b[0m\u001b[0;34m\u001b[0m\u001b[0;34m\u001b[0m\u001b[0m\n\u001b[1;32m    481\u001b[0m                 \u001b[0mall_kf_file_ids\u001b[0m \u001b[0;34m=\u001b[0m \u001b[0;34m{\u001b[0m\u001b[0;34m}\u001b[0m\u001b[0;34m\u001b[0m\u001b[0;34m\u001b[0m\u001b[0m\n\u001b[0;32m--> 482\u001b[0;31m                 \u001b[0mkfs\u001b[0m \u001b[0;34m=\u001b[0m \u001b[0mlist\u001b[0m\u001b[0;34m(\u001b[0m\u001b[0mkfold_rootdirs_dict\u001b[0m\u001b[0;34m[\u001b[0m\u001b[0mkf_set\u001b[0m\u001b[0;34m]\u001b[0m\u001b[0;34m.\u001b[0m\u001b[0mkeys\u001b[0m\u001b[0;34m(\u001b[0m\u001b[0;34m)\u001b[0m\u001b[0;34m)\u001b[0m \u001b[0;32mif\u001b[0m \u001b[0mkfs\u001b[0m \u001b[0;32mis\u001b[0m \u001b[0;32mNone\u001b[0m \u001b[0;32melse\u001b[0m \u001b[0mkfs\u001b[0m\u001b[0;34m\u001b[0m\u001b[0;34m\u001b[0m\u001b[0m\n\u001b[0m\u001b[1;32m    483\u001b[0m                 \u001b[0;32mfor\u001b[0m \u001b[0m_kf\u001b[0m \u001b[0;32min\u001b[0m \u001b[0mkfs\u001b[0m\u001b[0;34m:\u001b[0m\u001b[0;34m\u001b[0m\u001b[0;34m\u001b[0m\u001b[0m\n\u001b[1;32m    484\u001b[0m                         \u001b[0mkfrd\u001b[0m \u001b[0;34m=\u001b[0m \u001b[0mkfold_rootdirs_dict\u001b[0m\u001b[0;34m[\u001b[0m\u001b[0mkf_set\u001b[0m\u001b[0;34m]\u001b[0m\u001b[0;34m[\u001b[0m\u001b[0m_kf\u001b[0m\u001b[0;34m]\u001b[0m\u001b[0;34m\u001b[0m\u001b[0;34m\u001b[0m\u001b[0m\n",
      "\u001b[0;31mKeyError\u001b[0m: 'test'"
     ]
    }
   ],
   "source": [
    "%load_ext autoreload\n",
    "%autoreload 2\n",
    "from lcfeatures.results.tables import get_performance_df\n",
    "from fuzzytools.latex.latex_tables import LatexTable\n",
    "\n",
    "metric_names = [\n",
    "    'precision',\n",
    "    'recall',\n",
    "    'f1score',\n",
    "    'aucroc',\n",
    "    'aucpr',\n",
    "    ]\n",
    "    \n",
    "new_model_names = []\n",
    "for model_name in model_names:\n",
    "        new_model_names += [model_name]\n",
    "info_df = get_performance_df(rootdir, cfilename, kf, set_name, new_model_names, metric_names,\n",
    "    #dict_name='thdays_class_metrics_all_bands',\n",
    "    )\n",
    "for k in range(0, len(info_df)):\n",
    "    info_df.indexs[k] = info_df.indexs[k].replace('=', '***')\n",
    "    info_df.indexs[k] = info_df.indexs[k].replace('Model***', 'Model=')\n",
    "display(info_df())\n",
    "\n",
    "latex_table = LatexTable(info_df(),\n",
    "    centered=True,\n",
    "    repr_replace_dict={\n",
    "        '***':'=',\n",
    "        },\n",
    "    )\n",
    "print(latex_table)"
   ]
  }
 ],
 "metadata": {
  "kernelspec": {
   "display_name": "Python 3",
   "language": "python",
   "name": "python3"
  },
  "language_info": {
   "codemirror_mode": {
    "name": "ipython",
    "version": 3
   },
   "file_extension": ".py",
   "mimetype": "text/x-python",
   "name": "python",
   "nbconvert_exporter": "python",
   "pygments_lexer": "ipython3",
   "version": "3.7.10"
  }
 },
 "nbformat": 4,
 "nbformat_minor": 4
}
