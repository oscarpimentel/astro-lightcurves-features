{
 "cells": [
  {
   "cell_type": "code",
   "execution_count": null,
   "metadata": {},
   "outputs": [],
   "source": [
    "import sys\n",
    "sys.path.append('../') # or just install the module\n",
    "sys.path.append('../../fuzzy-tools') # or just install the module\n",
    "sys.path.append('../../astro-lightcurves-handler') # or just install the module"
   ]
  },
  {
   "cell_type": "code",
   "execution_count": null,
   "metadata": {},
   "outputs": [],
   "source": [
    "import pandas as pd\n",
    "\n",
    "kf = '0'\n",
    "method = 'linear-fstw'\n",
    "rootdir = f'../save/fats/survey=alerceZTFv7.1~bands=gr~mode=onlySNe~method={method}'\n",
    "filedir = f'{rootdir}/{kf}@train.{method}.df'\n",
    "df = pd.read_parquet(filedir) # parquet\n",
    "df = df.loc[['ZTF19adcfsoc.1']]\n",
    "df = df.transpose()\n",
    "with pd.option_context('display.max_rows', None, 'display.max_columns', None):\n",
    "    display(df)"
   ]
  },
  {
   "cell_type": "code",
   "execution_count": null,
   "metadata": {},
   "outputs": [],
   "source": [
    "import pandas as pd\n",
    "\n",
    "kf = 0\n",
    "rootdir = '../save/fats/survey=alerceZTFv7.1~bands=gr~mode=onlySNe~method=linear-fstw'\n",
    "filedir = f'{rootdir}/{kf}@train.df'\n",
    "df = pd.read_parquet(filedir) # parquet\n",
    "df = df['SPM_gamma_r']\n",
    "with pd.option_context('display.max_rows', None, 'display.max_columns', None):\n",
    "    display(df)"
   ]
  }
 ],
 "metadata": {
  "kernelspec": {
   "display_name": "Python 3",
   "language": "python",
   "name": "python3"
  },
  "language_info": {
   "codemirror_mode": {
    "name": "ipython",
    "version": 3
   },
   "file_extension": ".py",
   "mimetype": "text/x-python",
   "name": "python",
   "nbconvert_exporter": "python",
   "pygments_lexer": "ipython3",
   "version": "3.7.10"
  }
 },
 "nbformat": 4,
 "nbformat_minor": 4
}
