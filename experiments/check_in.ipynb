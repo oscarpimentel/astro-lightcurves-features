{
 "cells": [
  {
   "cell_type": "code",
   "execution_count": null,
   "id": "3a33b08f",
   "metadata": {},
   "outputs": [],
   "source": [
    "import sys\n",
    "sys.path.append('../') # or just install the module\n",
    "sys.path.append('../../fuzzy-tools') # or just install the module\n",
    "sys.path.append('../../astro-lightcurves-handler') # or just install the module"
   ]
  },
  {
   "cell_type": "code",
   "execution_count": null,
   "id": "66f90cfa",
   "metadata": {},
   "outputs": [],
   "source": [
    "%load_ext autoreload\n",
    "%autoreload 2\n",
    "import numpy as np\n",
    "from fuzzytools.progress_bars import ProgressBar\n",
    "from fuzzytools.files import load_pickle, save_pickle\n",
    "from fuzzytools.files import get_dict_from_filedir\n",
    "\n",
    "method = 'spm-mcmc-estw'\n",
    "filedir = f'../../surveys-save/survey=alerceZTFv7.1~bands=gr~mode=onlySNe~method={method}.splcds'\n",
    "filedict = get_dict_from_filedir(filedir)\n",
    "root_folder = filedict['_rootdir']\n",
    "cfilename = filedict['_cfilename']\n",
    "survey = filedict['survey']\n",
    "lcdataset = load_pickle(filedir)\n",
    "print(lcdataset)"
   ]
  },
  {
   "cell_type": "code",
   "execution_count": null,
   "id": "4572aa7a",
   "metadata": {},
   "outputs": [],
   "source": [
    "def check_any_in_list(l1, l2):\n",
    "    for x1 in l1: \n",
    "        if x1 in l2:\n",
    "            return True\n",
    "    return False\n",
    "    \n",
    "for kf in range(0, 5):\n",
    "    train = lcdataset[f'{kf}@train'].get_lcobj_names()\n",
    "    train_method = [lcobj_name.split('.')[0] for lcobj_name in lcdataset[f'{kf}@train.{method}'].get_lcobj_names()]\n",
    "    val = lcdataset[f'{kf}@val'].get_lcobj_names()\n",
    "    test = lcdataset[f'{kf}@test'].get_lcobj_names()\n",
    "    print(f'kf={kf} test in train', check_any_in_list(test, train))\n",
    "    print(f'kf={kf} test in train_method', check_any_in_list(test, train_method))\n",
    "    print(f'kf={kf} train in train_method', check_any_in_list(train, train_method))\n",
    "    print(f'kf={kf} test in val', check_any_in_list(test, val))\n",
    "    print(f'kf={kf} test in test', check_any_in_list(test, test))\n",
    "    print()\n",
    "    "
   ]
  }
 ],
 "metadata": {
  "kernelspec": {
   "display_name": "Python 3",
   "language": "python",
   "name": "python3"
  },
  "language_info": {
   "codemirror_mode": {
    "name": "ipython",
    "version": 3
   },
   "file_extension": ".py",
   "mimetype": "text/x-python",
   "name": "python",
   "nbconvert_exporter": "python",
   "pygments_lexer": "ipython3",
   "version": "3.7.10"
  }
 },
 "nbformat": 4,
 "nbformat_minor": 5
}
